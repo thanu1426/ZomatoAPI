{
 "cells": [
  {
   "cell_type": "markdown",
   "metadata": {},
   "source": [
    "Details of zomato.csv -\n",
    "\n",
    "\n",
    "Restaurant Id : Unique id of every restaurant across various cities of the world\n",
    "Restaurant Name : Name of the restaurant\n",
    "Country Code : Country in which restaurant is located\n",
    "City : City in which restaurant is located\n",
    "Address : Address of the restaurant\n",
    "Locality : Location in the city\n",
    "Locality Verbose : Detailed description of the locality\n",
    "Longitude : Longitude coordinate of the restaurant's location\n",
    "Latitude : Latitude coordinate of the restaurant's location\n",
    "Cuisines : Cuisines offered by the restaurant\n",
    "Average Cost for two : Cost for two people in different currencies\n",
    "Currency : Currency of the country\n",
    "Has Table booking : yes/no\n",
    "Has Online delivery : yes/ no\n",
    "Is delivering : yes/ no\n",
    "Switch to order menu : yes/no\n",
    "Price range : range of price of food\n",
    "Aggregate Rating : Average rating out of 5\n",
    "Rating color : depending upon the average rating color\n",
    "Rating text : text on the basis of rating of rating\n",
    "Votes : Number of ratings casted by people\n"
   ]
  },
  {
   "cell_type": "code",
   "execution_count": null,
   "metadata": {},
   "outputs": [],
   "source": []
  }
 ],
 "metadata": {
  "kernelspec": {
   "display_name": "Python 3",
   "language": "python",
   "name": "python3"
  },
  "language_info": {
   "codemirror_mode": {
    "name": "ipython",
    "version": 3
   },
   "file_extension": ".py",
   "mimetype": "text/x-python",
   "name": "python",
   "nbconvert_exporter": "python",
   "pygments_lexer": "ipython3",
   "version": "3.7.6"
  }
 },
 "nbformat": 4,
 "nbformat_minor": 4
}
