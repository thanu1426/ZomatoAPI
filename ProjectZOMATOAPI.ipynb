{
 "cells": [
  {
   "cell_type": "code",
   "execution_count": 1,
   "metadata": {},
   "outputs": [],
   "source": [
    "#API : 473678f0665ec378c5123e3f7889c0e6"
   ]
  },
  {
   "cell_type": "markdown",
   "metadata": {},
   "source": [
    "## Zomata Cuisine Problem Details\n",
    "Mexican cuisine began about 9,000 years ago, when agricultural communities such as the Maya formed, domesticating maize, creating the standard process of corn nixtamalization, and establishing their foodways.\n",
    "You are a huge fan of ‘Mexican’ cuisine. Now using the Zomato API you want to analyse the best restaurant serving the Mexican Cuisine, their locations, and cost for two, etc.\n",
    "There is a list of questions related to Mexican cuisines given in the next section."
   ]
  },
  {
   "cell_type": "markdown",
   "metadata": {},
   "source": [
    "## Fetch the cuisine_id of ‘Mexican’ cuisine using Zomato API."
   ]
  },
  {
   "cell_type": "code",
   "execution_count": 12,
   "metadata": {},
   "outputs": [
    {
     "name": "stdout",
     "output_type": "stream",
     "text": [
      "73\n"
     ]
    }
   ],
   "source": [
    "import requests\n",
    "import json\n",
    "h={\"User-agent\":\"curl/7.43.0\",\"Accept\": \"application/json\",\"user-key\": \"3754f0440b3026cde542ed69af9f499a\"}\n",
    "data={\"city_id\":1}\n",
    "response=requests.get(\"https://developers.zomato.com/api/v2.1/cuisines\",params=data,headers=h)\n",
    "python_data=response.json()\n",
    "for i in python_data['cuisines']:\n",
    "    if(i['cuisine']['cuisine_name']==\"Mexican\"):\n",
    "        print(i['cuisine']['cuisine_id'])"
   ]
  },
  {
   "cell_type": "markdown",
   "metadata": {},
   "source": [
    "## Fetch the entityid and entitytype of place Connaught Place."
   ]
  },
  {
   "cell_type": "code",
   "execution_count": 22,
   "metadata": {},
   "outputs": [
    {
     "name": "stdout",
     "output_type": "stream",
     "text": [
      "subzone 104\n"
     ]
    }
   ],
   "source": [
    "import requests\n",
    "import json\n",
    "h={\"User-agent\":\"curl/7.43.0\",\"Accept\": \"application/json\",\"user-key\": \"3754f0440b3026cde542ed69af9f499a\"}\n",
    "data={\"query\":\"Connaught Place\"}\n",
    "response=requests.get(\"https://developers.zomato.com/api/v2.1/locations\",params=data,headers=h)\n",
    "python_data=response.json()\n",
    "for i in python_data['location_suggestions']:\n",
    "    print(i['entity_type'],i['entity_id'])"
   ]
  },
  {
   "cell_type": "markdown",
   "metadata": {},
   "source": [
    "## Fetch the top 10 best-rated restaurant serving ‘Mexican’ cuisine present in Connaught Place."
   ]
  },
  {
   "cell_type": "code",
   "execution_count": 34,
   "metadata": {},
   "outputs": [
    {
     "name": "stdout",
     "output_type": "stream",
     "text": [
      "Farzi Cafe 4.5 18233593\n",
      "Ministry Of Beer 4.4 18418277\n",
      "Lord Of The Drinks 4.4 312603\n",
      "Chili's Grill & Bar 4.4 18537536\n",
      "Warehouse Cafe 4.3 301605\n",
      "Xero Degrees 4.3 18729557\n",
      "Local 4.3 18382360\n",
      "Teddy Boy 4.3 18281985\n",
      "Openhouse Cafe 4.3 312601\n",
      "Unplugged Courtyard 4.2 18216901\n"
     ]
    }
   ],
   "source": [
    "import requests\n",
    "import json\n",
    "#from one cuisine id is 73\n",
    "#to get restaurant entity id and restaurant entity type\n",
    "h={\"User-agent\":\"curl/7.43.0\",\"Accept\": \"application/json\",\"user-key\": \"3754f0440b3026cde542ed69af9f499a\"}\n",
    "data={\"query\":\"Connaught Place\"}\n",
    "response=requests.get(\"https://developers.zomato.com/api/v2.1/locations\",params=data,headers=h)\n",
    "python_data=response.json()\n",
    "for i in python_data['location_suggestions']:\n",
    "    e_type=i['entity_type']\n",
    "    e_id=i['entity_id']\n",
    "data={\"entity_id\":e_id,\"entity_type\":e_type,\"cuisines\":\"73\",\"sort\":\"rating\",\"count\":10}\n",
    "response=requests.get(\"https://developers.zomato.com/api/v2.1/search\",params=data,headers=h)\n",
    "python_data=response.json()\n",
    "for i in python_data['restaurants']:\n",
    "    print(i['restaurant']['name'],i['restaurant']['user_rating']['aggregate_rating'],i['restaurant']['id'])\n"
   ]
  },
  {
   "cell_type": "markdown",
   "metadata": {},
   "source": [
    "## Fetch the category id of category type ‘Cafes’ using Zomato API."
   ]
  },
  {
   "cell_type": "code",
   "execution_count": 37,
   "metadata": {},
   "outputs": [
    {
     "name": "stdout",
     "output_type": "stream",
     "text": [
      "6\n"
     ]
    }
   ],
   "source": [
    "import requests\n",
    "import json\n",
    "h={\"User-agent\":\"curl/7.43.0\",\"Accept\": \"application/json\",\"user-key\": \"3754f0440b3026cde542ed69af9f499a\"}\n",
    "response=requests.get(\"https://developers.zomato.com/api/v2.1/categories\",headers=h)\n",
    "python_data=response.json()\n",
    "for i in python_data['categories']:\n",
    "    if(i['categories']['name']==\"Cafes\"):\n",
    "        print(i['categories']['id'])"
   ]
  },
  {
   "cell_type": "markdown",
   "metadata": {},
   "source": [
    "## Fetch the best-rated restaurants for ‘Mexican’ cuisine with category type ‘ Cafes’ present in Connaught Place using Zomato API."
   ]
  },
  {
   "cell_type": "code",
   "execution_count": 64,
   "metadata": {},
   "outputs": [
    {
     "name": "stdout",
     "output_type": "stream",
     "text": [
      "Xero Degrees 4.3 18729557\n",
      "Chaayos - Meri Wali Chai 4.2 18237315\n",
      "The Art House Bar n Cafe 4.0 18863766\n",
      "Cafe Coffee Day - The Square 3.5 303034\n"
     ]
    }
   ],
   "source": [
    "import requests\n",
    "import json\n",
    "e_type=\"subzone\"\n",
    "e_id=104\n",
    "category=6\n",
    "h={\"User-agent\":\"curl/7.43.0\",\"Accept\": \"application/json\",\"user-key\": \"3754f0440b3026cde542ed69af9f499a\"}\n",
    "data={\"entity_id\":e_id,\"entity_type\":e_type,\"cuisines\":\"73\",\"sort\":\"rating\",\"category\":category}\n",
    "response=requests.get(\"https://developers.zomato.com/api/v2.1/search\",params=data,headers=h)\n",
    "python_data=response.json()\n",
    "for i in python_data['restaurants']:\n",
    "    print(i['restaurant']['name'],i['restaurant']['user_rating']['aggregate_rating'],i['restaurant']['id'])\n",
    "\n"
   ]
  },
  {
   "cell_type": "markdown",
   "metadata": {},
   "source": [
    "## Fetch the latest review of the best-rated restaurant for ‘Mexican’ cuisine with Category type ‘Cafes’ present in Connaught Place using Zomato API."
   ]
  },
  {
   "cell_type": "code",
   "execution_count": 63,
   "metadata": {},
   "outputs": [
    {
     "name": "stdout",
     "output_type": "stream",
     "text": [
      "Shreya Chakraborty 5 \n",
      "Kritika Saluja 5 Amazing and affordable place with good quality food and have cozy ambience. Must try their chessy fries range, pizza and coolers.\n",
      "Apoorv Mittal 5 This place is again back after taking all safety precautions. I have visited here with one my colleague and one of the best cafe in CP. Having prettiest ambiance. One can spend quality time over there. Talking about food i tried Peri peri cheesy fries which was too good, its one of must try item from the menu. I also tried their shakes which were thick and the presentation was awesome. Their pizza was delicious and superb in taste. I really liked it. If we talk about sliders( Colored burgers), they were amazing. I would love to recommend this place to everyone.  Food: 5/5 Service:5/5  Ambiance: 5/5  Safety precautions: 5/5\n",
      "Rashid 4 I just love this place. The ambience, the food, the staff, the quality, everything is good. Staff is really active and polite. And in this covid situation they are properly taking care of hygiene, sanitization, masks, social distancing, and saftey. Food is so delicious and it's quality and quantity is also really great. Amazing place to enjoy with your friends, colleagues, partner, etc. They place and it's food will never make you sad. Their pizza, fries, nachos, shakes, burgers etc. all are so good in taste. It's pocket friendly as well and they will good amount of food that makes you full and happy. This place is a must try and highly recommend. Go and enjoy.\n",
      "Chulbul Ji 5 Yesterday I went to this very known outlet named xero degrees you must have seen their amazing post on Instagram if you search for food, so I thought it would be a great idea to share my experience with you guys , I totally recommend every food lover to try out their new menu and peri peri fries is must , they serve great and huge variety of shakes , so don’t forget that , service is really fast plus place is hygienic with all sensitisation equipment properly in use. Down below I have dropped my favourite food items\n"
     ]
    }
   ],
   "source": [
    "import requests\n",
    "import json\n",
    "e_type=\"subzone\"\n",
    "e_id=104\n",
    "category=6\n",
    "h={\"User-agent\":\"curl/7.43.0\",\"Accept\": \"application/json\",\"user-key\": \"3754f0440b3026cde542ed69af9f499a\"}\n",
    "data={\"entity_id\":e_id,\"entity_type\":e_type,\"cuisines\":\"73\",\"count\":1,\"sort\":\"rating\",\"category\":category}\n",
    "response=requests.get(\"https://developers.zomato.com/api/v2.1/search\",params=data,headers=h)\n",
    "python_data=response.json()\n",
    "for i in python_data['restaurants']:\n",
    "    res_id=i['restaurant']['id']\n",
    "    d={\"res_id\":res_id}\n",
    "    r=requests.get(\"https://developers.zomato.com/api/v2.1/reviews\",params=d,headers=h)\n",
    "    py=r.json()\n",
    "    for j in py['user_reviews']:\n",
    "        name=j['review']['user']['name']\n",
    "        review_text=j['review']['review_text']\n",
    "        rating=j['review']['rating']\n",
    "        print(name,rating,review_text)"
   ]
  },
  {
   "cell_type": "markdown",
   "metadata": {},
   "source": [
    "## Zomato Restaurant Problem Details\n",
    "Problem 2\n",
    "\"Pa Pa Ya\" is a modern Asian bistro & tapas bar from the House of Massive Restaurants and best described as a chic, modern and radical reinterpretation of Asian cuisine.\n",
    "You have heard from your friends that restaurant \"Pa Pa Ya\" in Delhi is quite good. So now you want to extract the information related to \"Pa Pa Ya\" using Zomato API.\n",
    "There is a list of questions related to the restaurant given in the next section."
   ]
  },
  {
   "cell_type": "markdown",
   "metadata": {},
   "source": [
    "## Fetch the details of \"Pa Pa Ya\" restaurant using Zomato API.\n",
    "Print the user rating, the average cost for two, cuisines and address of \"Pa Pa Ya\" restaurant."
   ]
  },
  {
   "cell_type": "code",
   "execution_count": 74,
   "metadata": {},
   "outputs": [
    {
     "name": "stdout",
     "output_type": "stream",
     "text": [
      "4.9\n",
      "2500\n",
      "A-3, Select Citywalk, District Centre, Saket, New Delhi\n",
      "Asian, Chinese, Thai, Japanese\n"
     ]
    }
   ],
   "source": [
    "import requests\n",
    "import json\n",
    "h={\"User-agent\":\"curl/7.43.0\",\"Accept\": \"application/json\",\"user-key\": \"3754f0440b3026cde542ed69af9f499a\"}\n",
    "\n",
    "#to get entity id and entity type\n",
    "d={\"query\":\"Delhi\"}\n",
    "r=requests.get(\"https://developers.zomato.com/api/v2.1/locations\",params=d,headers=h)\n",
    "python_data=r.json()\n",
    "for i in python_data['location_suggestions']:\n",
    "    e_type=i['entity_type']\n",
    "    e_id=i['entity_id']\n",
    "#to get res_id\n",
    "d={\"q\":\"Pa Pa Ya\",\"entity_type\":e_type,\"entity_id\":e_id}\n",
    "r=requests.get(\"https://developers.zomato.com/api/v2.1/search\",params=d,headers=h)\n",
    "python_data=r.json()\n",
    "for i in python_data['restaurants']:\n",
    "    if i['restaurant']['name']==\"Pa Pa Ya\":\n",
    "        print(i['restaurant']['user_rating']['aggregate_rating'])\n",
    "        print(i['restaurant']['average_cost_for_two'])\n",
    "        print(i['restaurant']['location']['address'])\n",
    "        print(i['restaurant']['cuisines'])\n",
    "        break\n",
    "\n",
    "       \n",
    "        "
   ]
  },
  {
   "cell_type": "markdown",
   "metadata": {},
   "source": [
    "## Find out whether online table reservation is supported in \"Pa Pa Ya\" restaurant or not using Zomato API.\n",
    "Print 'yes' if online table reservation is supported else 'no'"
   ]
  },
  {
   "cell_type": "code",
   "execution_count": 76,
   "metadata": {},
   "outputs": [
    {
     "name": "stdout",
     "output_type": "stream",
     "text": [
      "yes\n"
     ]
    }
   ],
   "source": [
    "import requests\n",
    "import json\n",
    "h={\"User-agent\":\"curl/7.43.0\",\"Accept\": \"application/json\",\"user-key\": \"3754f0440b3026cde542ed69af9f499a\"}\n",
    "\n",
    "#to get entity id and entity type\n",
    "d={\"query\":\"Delhi\"}\n",
    "r=requests.get(\"https://developers.zomato.com/api/v2.1/locations\",params=d,headers=h)\n",
    "python_data=r.json()\n",
    "for i in python_data['location_suggestions']:\n",
    "    e_type=i['entity_type']\n",
    "    e_id=i['entity_id']\n",
    "    \n",
    "#to get info\n",
    "d={\"q\":\"Pa Pa Ya\",\"entity_type\":e_type,\"entity_id\":e_id}\n",
    "r=requests.get(\"https://developers.zomato.com/api/v2.1/search\",params=d,headers=h)\n",
    "python_data=r.json()\n",
    "for i in python_data['restaurants']:\n",
    "    if i['restaurant']['name']==\"Pa Pa Ya\":\n",
    "        if i['restaurant']['is_table_reservation_supported']:\n",
    "            print(\"yes\")\n",
    "        else:\n",
    "            print(\"no\")\n",
    "        break\n",
    "        \n"
   ]
  },
  {
   "cell_type": "markdown",
   "metadata": {},
   "source": [
    "## Fetch the latest review of \"Pa Pa Ya\" restaurant using Zomato API.\n",
    "Print the name of the user, user rating and review text."
   ]
  },
  {
   "cell_type": "code",
   "execution_count": 79,
   "metadata": {},
   "outputs": [
    {
     "name": "stdout",
     "output_type": "stream",
     "text": [
      "Atal Chachan 4 \n",
      "Shweta Kumar 4 \n",
      "Hungry Wolfs 5 This place serves amazing food the ambiance is super good you can go on dates chill out with friends and family kitty’s aswell\n",
      "Rushil Badhwar 4 \n",
      "Anushri Tripathi 5 \n"
     ]
    }
   ],
   "source": [
    "import requests\n",
    "import json\n",
    "h={\"User-agent\":\"curl/7.43.0\",\"Accept\": \"application/json\",\"user-key\": \"3754f0440b3026cde542ed69af9f499a\"}\n",
    "\n",
    "#to get entity id and entity type\n",
    "d={\"query\":\"Delhi\"}\n",
    "r=requests.get(\"https://developers.zomato.com/api/v2.1/locations\",params=d,headers=h)\n",
    "python_data=r.json()\n",
    "for i in python_data['location_suggestions']:\n",
    "    e_type=i['entity_type']\n",
    "    e_id=i['entity_id']\n",
    "    \n",
    "#to get res_id\n",
    "d={\"q\":\"Pa Pa Ya\",\"entity_type\":e_type,\"entity_id\":e_id}\n",
    "r=requests.get(\"https://developers.zomato.com/api/v2.1/search\",params=d,headers=h)\n",
    "python_data=r.json()\n",
    "for i in python_data['restaurants']:\n",
    "    if i['restaurant']['name']==\"Pa Pa Ya\":\n",
    "        res_id=i['restaurant']['id']\n",
    "        break\n",
    "\n",
    "#to get reviews\n",
    "d={\"res_id\":res_id}\n",
    "r=requests.get(\"https://developers.zomato.com/api/v2.1/reviews\",params=d,headers=h)\n",
    "python_data=r.json()\n",
    "for i in python_data['user_reviews']:\n",
    "    name=i['review']['user']['name']\n",
    "    rating=i['review']['rating']\n",
    "    text=i['review']['review_text']\n",
    "    print(name,rating,text)\n",
    "        "
   ]
  },
  {
   "cell_type": "markdown",
   "metadata": {},
   "source": [
    "## Zomato Distance Problem\n",
    "Distance is also a very important factor while selecting a restaurant. Suppose you are at Coding Ninjas and you want to select the restaurant which is near to you using Zomato API.\n",
    "Note down the latitude and longitude of Coding Ninjas using Google Maps\n",
    "There is a list of questions related to restaurant near me given in the next section.\n"
   ]
  },
  {
   "cell_type": "markdown",
   "metadata": {},
   "source": [
    "## Fetch the cuisine_id of of cuisine ‘BBQ’ using Zomato API.\n",
    "Print the cuisine_id"
   ]
  },
  {
   "cell_type": "code",
   "execution_count": 81,
   "metadata": {},
   "outputs": [
    {
     "name": "stdout",
     "output_type": "stream",
     "text": [
      "193\n"
     ]
    }
   ],
   "source": [
    "import requests\n",
    "import json\n",
    "h={\"User-agent\":\"curl/7.43.0\",\"Accept\": \"application/json\",\"user-key\": \"3754f0440b3026cde542ed69af9f499a\"}\n",
    "d={\"city_id\":\"1\"}\n",
    "r=requests.get(\"https://developers.zomato.com/api/v2.1/cuisines\",params=d,headers=h)\n",
    "python_data=r.json()\n",
    "for i in python_data['cuisines']:\n",
    "    if i['cuisine']['cuisine_name']==\"BBQ\":\n",
    "        print(i['cuisine']['cuisine_id'])\n",
    "        break\n"
   ]
  },
  {
   "cell_type": "markdown",
   "metadata": {},
   "source": [
    "## Fetch the list of the top 10 restaurants serving cuisine ‘BBQ’ which are nearest to Coding Ninjas.\n",
    "Print the restaurant name, user rating, restaurant id and locality in which restaurant is present."
   ]
  },
  {
   "cell_type": "code",
   "execution_count": 3,
   "metadata": {},
   "outputs": [
    {
     "name": "stdout",
     "output_type": "stream",
     "text": [
      "Themis Barbecue House 4.3 18204820 Netaji Subhash Place\n",
      "Barbeque Nation 4.6 9561 Netaji Subhash Place\n",
      "Amazings Kitchen 0 19370424 Prashant Vihar\n",
      "Moet's Barbeque 0 19238917 Alipur\n",
      "UBQ by Barbeque Nation 3.3 18889760 Rohini\n",
      "Kays Bar-Be-Que 4.0 3079 Ashok Vihar Phase 1\n",
      "Chicken Adda 0 19179179 Rohini\n",
      "7teen BBQ Bistro Bnq 3.9 18595610 Moti Nagar\n",
      "Pishori Chicken 0 19061375 Kirti Nagar\n",
      "Hunger On Wheels 0 19054336 Vijay Nagar\n"
     ]
    }
   ],
   "source": [
    "import requests\n",
    "import json\n",
    "h={\"User-agent\":\"curl/7.43.0\",\"Accept\": \"application/json\",\"user-key\": \"3754f0440b3026cde542ed69af9f499a\"}\n",
    "d={\"count\":10,\"cuisines\":\"193\",\"sort\":\"real_distance\",\"lat\":\"28.697522\",\"lon\":\"77.140681\"}\n",
    "r=requests.get(\"https://developers.zomato.com/api/v2.1/search\",params=d,headers=h)\n",
    "python_data=r.json()\n",
    "for i in python_data['restaurants']:\n",
    "    name=i['restaurant']['name']\n",
    "    rating=i['restaurant']['user_rating']['aggregate_rating']\n",
    "    id=i['restaurant']['id']\n",
    "    loc=i['restaurant']['location']['locality']\n",
    "    print(name,rating,id,loc)"
   ]
  },
  {
   "cell_type": "markdown",
   "metadata": {},
   "source": [
    "## Fetch the latest review of the restaurant serving cuisine ‘BBQ’ which is most nearest to Coding ninjas?\n",
    "Print the name of user ,user rating and review text."
   ]
  },
  {
   "cell_type": "code",
   "execution_count": 4,
   "metadata": {},
   "outputs": [
    {
     "name": "stdout",
     "output_type": "stream",
     "text": [
      "FoodisBae 4 Roof top cafe with good view. The interiors are nice and the dj plays good music. Loved the food they serve here. They have amazing buffet also. Pizza,pasta and drinks were pretty good.service was nice.\n",
      "Milind 4 If u are bored of Barbeque nation , this place is must try for u🤓🔥😅. It is one of the best barbeque restaurants in Delhi offering rooftop seating . So we opted for rooftop seating for our lunch & the view was amazing 🔥😻. We opted for veg buffet which included a range of starters like crispy corn , paneer tikka , spicy mushroom . Then in main course we tried manchurian with noodles . As a complementary drink I ordered Kiwi mojito which was so refreshing & eye catchy too😻🔥🔥🔥🤓🤓. So if u visit Pitampura next time don't miss this amazing place.👻🔥🤓😻😻\n",
      "Shashank Agarwal 4 Great place for an experience of grill in north delhi. Great starters, nice main course and average dessert.\n",
      "Babu Beg 5 Staff was polite (5*) speedy service (5*) food was delicious and had plenty options. The only difference I could notice that staff was either not well aware of the schemes offered by the Restaurant or were pretending as there didn't exist any scheme (which otherwise were appearing even on the pamphlet put on the table). Still would love to visit again soon.\n",
      "... 4 \n"
     ]
    }
   ],
   "source": [
    "import requests\n",
    "import json\n",
    "h={\"User-agent\":\"curl/7.43.0\",\"Accept\": \"application/json\",\"user-key\": \"3754f0440b3026cde542ed69af9f499a\"}\n",
    "\n",
    "#to get res_id\n",
    "d={\"count\":1,\"cuisines\":\"193\",\"sort\":\"real_distance\",\"lat\":\"28.697522\",\"lon\":\"77.140681\"}\n",
    "r=requests.get(\"https://developers.zomato.com/api/v2.1/search\",params=d,headers=h)\n",
    "python_data=r.json()\n",
    "for i in python_data['restaurants']:\n",
    "    id=i['restaurant']['id']\n",
    "    \n",
    "d={\"res_id\":id}\n",
    "r=requests.get(\"https://developers.zomato.com/api/v2.1/reviews\",params=d,headers=h)\n",
    "python_data=r.json()\n",
    "for i in python_data['user_reviews']:\n",
    "    name=i['review']['user']['name']\n",
    "    rating=i['review']['rating']\n",
    "    text=i['review']['review_text']\n",
    "    print(name,rating,text)"
   ]
  },
  {
   "cell_type": "markdown",
   "metadata": {},
   "source": [
    "## Experiment with the radius parameter that is present in ‘GET/search’. Fetch the list of top 10 best-restaurant present in a radius of 4 km of coding ninjas.\n",
    "Print the restaurant name, user rating, restaurant id and locality in which restaurant is present."
   ]
  },
  {
   "cell_type": "code",
   "execution_count": 7,
   "metadata": {},
   "outputs": [
    {
     "name": "stdout",
     "output_type": "stream",
     "text": [
      "Indian Accent 4.9 2004 The Lodhi, Lodhi Road\n",
      "Cafe Lota 4.9 305525 Pragati Maidan\n",
      "The Big Chill 4.9 1614 Khan Market\n",
      "Pa Pa Ya 4.9 18429148 Select Citywalk Mall, Saket\n",
      "Kuremal Mohan Lal Kulfi Wale 4.9 303642 Chawri Bazar\n",
      "Dum-Pukht - ITC Maurya 4.9 2744 ITC Maurya, Chanakyapuri\n",
      "The Big Chill 4.9 8244 Khan Market\n",
      "Wenger's 4.8 4249 Connaught Place\n",
      "Manhattan Bar & Brewery 4.8 303960 Global Foyer Mall, Golf Course Road\n",
      "Downtown - Diners & Living Beer Cafe 4.8 4959 Sector 29\n"
     ]
    }
   ],
   "source": [
    "import requests\n",
    "import json\n",
    "h={\"User-agent\":\"curl/7.43.0\",\"Accept\": \"application/json\",\"user-key\": \"3754f0440b3026cde542ed69af9f499a\"}\n",
    "\n",
    "d={\"count\":10,\"sort\":\"rating\",\"lat\":\"28.697522\",\"lon\":\"77.140681\",\"radius\":4000}\n",
    "r=requests.get(\"https://developers.zomato.com/api/v2.1/search\",params=d,headers=h)\n",
    "python_data=r.json()\n",
    "for i in python_data['restaurants']:\n",
    "    name=i['restaurant']['name']\n",
    "    rating=i['restaurant']['user_rating']['aggregate_rating']\n",
    "    id=i['restaurant']['id']\n",
    "    loc=i['restaurant']['location']['locality']\n",
    "    print(name,rating,id,loc)"
   ]
  },
  {
   "cell_type": "markdown",
   "metadata": {},
   "source": [
    "## Compare the location of the restaurant whether really they are in a distance of 4 km to Coding Ninjas. Find out whether these API radius feature is working or not.\n",
    "Print 'yes' if radius feature work else print 'no'."
   ]
  },
  {
   "cell_type": "code",
   "execution_count": 13,
   "metadata": {},
   "outputs": [
    {
     "name": "stdout",
     "output_type": "stream",
     "text": [
      "28.5920639406 77.2376998141\n",
      "28.6134290000 77.2424710000\n",
      "28.6007265675 77.2277635708\n",
      "28.5285368249 77.2184998915\n",
      "28.6476619480 77.2269910946\n",
      "28.5982002994 77.1736607328\n",
      "28.6007165591 77.2277860343\n",
      "28.6334507026 77.2180680558\n",
      "28.4605831549 77.0954766870\n",
      "28.4682916376 77.0630162582\n",
      "no\n"
     ]
    }
   ],
   "source": [
    "import requests\n",
    "import json\n",
    "h={\"User-agent\":\"curl/7.43.0\",\"Accept\": \"application/json\",\"user-key\": \"3754f0440b3026cde542ed69af9f499a\"}\n",
    "\n",
    "d={\"count\":10,\"sort\":\"rating\",\"lat\":\"28.697522\",\"lon\":\"77.140681\",\"radius\":4000}\n",
    "r=requests.get(\"https://developers.zomato.com/api/v2.1/search\",params=d,headers=h)\n",
    "python_data=r.json()\n",
    "for i in python_data['restaurants']:\n",
    "    lat=i['restaurant']['location']['latitude']\n",
    "    lon=i['restaurant']['location']['longitude']\n",
    "    print(lat,lon)\n",
    "\n",
    "## https://www.gpsvisualizer.com/calculators\n",
    "#on using the above for calculating the distance between the two, found that the radius is 15km, hence ans is NO\n",
    "print(\"no\")"
   ]
  },
  {
   "cell_type": "code",
   "execution_count": null,
   "metadata": {},
   "outputs": [],
   "source": []
  },
  {
   "cell_type": "code",
   "execution_count": null,
   "metadata": {},
   "outputs": [],
   "source": []
  },
  {
   "cell_type": "code",
   "execution_count": null,
   "metadata": {},
   "outputs": [],
   "source": []
  },
  {
   "cell_type": "code",
   "execution_count": null,
   "metadata": {},
   "outputs": [],
   "source": []
  },
  {
   "cell_type": "code",
   "execution_count": null,
   "metadata": {},
   "outputs": [],
   "source": []
  },
  {
   "cell_type": "code",
   "execution_count": null,
   "metadata": {},
   "outputs": [],
   "source": []
  },
  {
   "cell_type": "code",
   "execution_count": null,
   "metadata": {},
   "outputs": [],
   "source": []
  },
  {
   "cell_type": "code",
   "execution_count": null,
   "metadata": {},
   "outputs": [],
   "source": []
  },
  {
   "cell_type": "code",
   "execution_count": null,
   "metadata": {},
   "outputs": [],
   "source": []
  },
  {
   "cell_type": "code",
   "execution_count": null,
   "metadata": {},
   "outputs": [],
   "source": []
  },
  {
   "cell_type": "code",
   "execution_count": null,
   "metadata": {},
   "outputs": [],
   "source": []
  },
  {
   "cell_type": "code",
   "execution_count": null,
   "metadata": {},
   "outputs": [],
   "source": []
  },
  {
   "cell_type": "code",
   "execution_count": null,
   "metadata": {},
   "outputs": [],
   "source": []
  },
  {
   "cell_type": "code",
   "execution_count": null,
   "metadata": {},
   "outputs": [],
   "source": []
  },
  {
   "cell_type": "code",
   "execution_count": null,
   "metadata": {},
   "outputs": [],
   "source": []
  },
  {
   "cell_type": "code",
   "execution_count": null,
   "metadata": {},
   "outputs": [],
   "source": []
  },
  {
   "cell_type": "code",
   "execution_count": null,
   "metadata": {},
   "outputs": [],
   "source": []
  },
  {
   "cell_type": "code",
   "execution_count": null,
   "metadata": {},
   "outputs": [],
   "source": []
  },
  {
   "cell_type": "code",
   "execution_count": null,
   "metadata": {},
   "outputs": [],
   "source": []
  },
  {
   "cell_type": "code",
   "execution_count": null,
   "metadata": {},
   "outputs": [],
   "source": []
  },
  {
   "cell_type": "code",
   "execution_count": null,
   "metadata": {},
   "outputs": [],
   "source": []
  }
 ],
 "metadata": {
  "kernelspec": {
   "display_name": "Python 3",
   "language": "python",
   "name": "python3"
  },
  "language_info": {
   "codemirror_mode": {
    "name": "ipython",
    "version": 3
   },
   "file_extension": ".py",
   "mimetype": "text/x-python",
   "name": "python",
   "nbconvert_exporter": "python",
   "pygments_lexer": "ipython3",
   "version": "3.7.6"
  }
 },
 "nbformat": 4,
 "nbformat_minor": 4
}
